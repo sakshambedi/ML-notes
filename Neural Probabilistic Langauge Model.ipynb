{
 "cells": [
  {
   "cell_type": "markdown",
   "metadata": {},
   "source": [
    "# A Neural Probablistic Language Model Implementation\n",
    "\n",
    "Get the Paper : [A Neural Probablistic Language Model](https://www.jmlr.org/papers/volume3/bengio03a/bengio03a.pdf)\n",
    "\n",
    "Special Thanks to ANDREJ KARPATHY for the explanation: [Neural Probablistic Language Model Paper Explanation](https://www.youtube.com/watch?v=TCH_1BHY58I&list=PLAqhIrjkxbuWI23v9cThsA9GvCAUhRvKZ&index=3) \n",
    "\n",
    "## Abstract from the Paper\n",
    "\n",
    "A goal of statistical language modeling is to learn the joint probability function of sequences of words in a language. This is intrinsically difficult because of the curse of dimensionality: a word sequence on which the model will be tested is likely to be different from all the word sequences seen during training. Traditional but very successful approaches based on n-grams obtain generalization by concatenating very short overlapping sequences seen in the training set. We propose to fight the curse of dimensionality by learning a distributed representation for words which allows each training sentence to inform the model about an exponential number of semantically neighboring sentences. The model learns simultaneously (1) a distributed representation for each word along with (2) the probability function for word sequences, expressed in terms of these representations. \n",
    "Generalization is obtained because a sequence of words that has never been seen before gets high probability if it is made of words that are similar (in the sense of having a nearby representation) to words forming an already seen sentence. Training such large models (with millions of parameters) within a reasonable time is itself a significant challenge. We report on experiments using neural networks for the probability function, showing on two text corpora that the proposed approach significantly improves on state-of-the-art n-gram models, and that the proposed approach allows to take advantage of longer contexts.\n"
   ]
  },
  {
   "cell_type": "markdown",
   "metadata": {},
   "source": [
    "A statistical model of language can be represented by the conditional probability of the next\n",
    "word given all the previous ones, since\n",
    "\n",
    "$$\\begin{align*} \\\\ \n",
    "\\hat{P}(w_1^T) = \\prod_{t=1}^{T} \\hat{P}(w_t \\mid w_1^{t-1}) \\tag{1} \\\\\n",
    "\\end{align*}$$\n",
    "\n",
    "Simple Explanation of each term on the probability Equation from Mathetical Perpective:\n",
    "1.\tSequence Notation:  $w_1^T$  denotes a sequence of elements from  $w_1$  to  $w_T$ . This could represent a sequence of words in a sentence, for example.\n",
    "2.\tConditional Probability: $\\hat{P}(w_t \\mid w_1^{t-1})$  is the predicted probability of the  $t^{th}$ element in the sequence, given all the previous elements in the sequence from $w_1$  to  $w_{t-1}$ .\n",
    "3.\tProduct of Probabilities: The product notation  $\\prod_{t=1}^{T}$ indicates that we are multiplying the conditional probabilities of each element in the sequence. This multiplication is performed from  $t = 1$  to  $t = T$ .\n",
    "\n",
    "In the Equation $(1), \\;\\;\\; w_t$ is the $t^{th}$ word, and writing sub-sequence $w^{j}_{i}$ = $(w_{i}, w_{i+1},···, w_{j−1}, w_{j})$. Such statistical language models have already been found useful in many technological applications involving natural language, such as speech recognition, language translation, and information retrieval.\n",
    "\n",
    "\n",
    "\n",
    "\n",
    "When building statistical models of natural language, one considerably reduces the difficulty of this modeling problem by taking advantage of word order, and the fact that temporally closer words in the word sequence are statistically more dependent. Thus, n-gram models construct tables of conditional probabilities for the next word, for each one of a large number of contexts, i.e. combinations of the last n−1 words:\n",
    "\n",
    "$$\\begin{align*} \n",
    "\\hat{P}(w_t | w_{1}^{t-1}) \\approx \\hat{P}(w_t \\mid w_{t-n+1}^{t-1}) \n",
    "\\end{align*}$$\n",
    "\n",
    "\n",
    "In case of this implementation the learning set is reduced from words to letters. Instead of generating sentences using probabilistic approach, this model will be generating names from a dataset of names.\n",
    "\n",
    "[Dataset Source Link](https://github.com/karpathy/makemore/blob/master/names.txt)"
   ]
  },
  {
   "cell_type": "markdown",
   "metadata": {},
   "source": [
    "## Fighting the Curse of Dimensionality with Distributed Representations"
   ]
  },
  {
   "cell_type": "code",
   "execution_count": 129,
   "metadata": {},
   "outputs": [
    {
     "name": "stdout",
     "output_type": "stream",
     "text": [
      "  % Total    % Received % Xferd  Average Speed   Time    Time     Time  Current\n",
      "                                 Dload  Upload   Total   Spent    Left  Speed\n",
      "100  222k  100  222k    0     0   214k      0  0:00:01  0:00:01 --:--:--  214k\n"
     ]
    }
   ],
   "source": [
    "# Fetching the dataset and putting in the data dir\n",
    "!mkdir -p ./data/names_dataset\n",
    "!curl -o ./data/names_dataset/names.txt https://raw.githubusercontent.com/karpathy/makemore/master/names.txt"
   ]
  },
  {
   "cell_type": "markdown",
   "metadata": {},
   "source": [
    "\n",
    "In our current project, we are focused on building a character-level language model. However, the paper we are examining employs a word-level language model with a vocabulary of 17,000 possible words. In this paper, each word is associated with a 30-dimensional feature vector, embedding every word into a 30-dimensional space. Initially, these word embeddings are randomly distributed within the space. During the training process, backpropagation is used to tune these embeddings, causing the word vectors to move. Words with similar meanings or synonyms are likely to cluster together in similar regions of the space, while words with different meanings will be more dispersed. The paper's modeling approach is otherwise identical to ours, utilizing a multi-layer neural network to predict the next word based on previous words and maximizing the log likelihood of the training data. To illustrate this approach, the paper provides a concrete example demonstrating their intuition.\n",
    "\n",
    "### Explanation\n",
    "If we understand that certain objects, such as \"dog\" and \"cat,\" share similar roles both semantically and syntactically, and the same applies to pairs like \"the\" and \"a,\" \"bedroom\" and \"room,\" and \"is\" and \"was,\" we can naturally extend (or transfer probability mass) from the sentence \"The cat is walking in the bedroom\" to \"A dog was running in a room.\" Similarly, this allows us to generalize to sentences like \"The cat is running in a room,\" \"A dog is walking in a bedroom,\" and \"The dog was walking in the room.\""
   ]
  },
  {
   "cell_type": "code",
   "execution_count": 130,
   "metadata": {},
   "outputs": [],
   "source": [
    "import torch\n",
    "import torch.nn.functional as F \n",
    "import matplotlib.pyplot as plt\n",
    "\n",
    "%matplotlib inline"
   ]
  },
  {
   "cell_type": "code",
   "execution_count": 131,
   "metadata": {},
   "outputs": [
    {
     "data": {
      "text/plain": [
       "(['emma', 'olivia', 'ava', 'isabella', 'sophia'], 32033)"
      ]
     },
     "execution_count": 131,
     "metadata": {},
     "output_type": "execute_result"
    }
   ],
   "source": [
    "# Reading the file\n",
    "words = open(\"./data/names_dataset/names.txt\", 'r').read().splitlines()\n",
    "words[:5], len(words)"
   ]
  },
  {
   "cell_type": "code",
   "execution_count": 132,
   "metadata": {},
   "outputs": [],
   "source": [
    "## Building a dictionary mapping of each letter to a number\n",
    "# chars = sorted()\n",
    "chars =sorted(list(set(''.join(words)))) # Take all the words in the words(list) and join them to make a string, create a set of words(sets are unordered but each element is unique), convert that to a list and sort it.\n",
    "stoi = {s:i+1 for i,s in enumerate(chars)} # buiding the dictionary from the chars \n",
    "stoi['.'] = 0\n",
    "\n",
    "\n",
    "itos = {i:s for s,i in stoi.items()} # Just making another list that maps intergers -> char/string\n"
   ]
  },
  {
   "cell_type": "code",
   "execution_count": 260,
   "metadata": {},
   "outputs": [
    {
     "data": {
      "text/plain": [
       "((torch.Size([182424, 3]), torch.Size([22836, 3]), torch.Size([205260, 3])),\n",
       " (torch.Size([182424]), torch.Size([22836]), torch.Size([205260])))"
      ]
     },
     "execution_count": 260,
     "metadata": {},
     "output_type": "execute_result"
    }
   ],
   "source": [
    "import random\n",
    "\n",
    "block_size = 3  ## This is the context window. Number of characters we take to predict the next one.\n",
    "\n",
    "# Building the dataset\n",
    "def build_dataset(words):\n",
    "    X, Y = [], []\n",
    "    for w in words:\n",
    "        context = [0] * block_size\n",
    "        for ch in w + \".\":\n",
    "            ix = stoi[ch]\n",
    "            X.append(context)  # X appends a context list. Results in a 2d list\n",
    "            Y.append(ix)  # Y just appends the representation based on the context\n",
    "            # print(''.join(itos[ch] for ch in context), \" ---> \" , itos[ix]) # debuging statement\n",
    "            context = (\n",
    "                context[1:] + [ix]\n",
    "            )  # Remove the first element from the list and add the new character(integer representation value)\n",
    "    \n",
    "    # Convert the X and Y in the torch tensors\n",
    "    X = torch.tensor(X)\n",
    "    Y = torch.tensor(Y)\n",
    "    return X,Y\n",
    "\n",
    "random.seed(42)\n",
    "random.shuffle(words) ## Randomly shuffling the words\n",
    "n1 = int(0.8 * len(words))\n",
    "n2 = int(0.9 * len(words))\n",
    "\n",
    "Xtr, Ytr = build_dataset(words=words[:n1])\n",
    "Xval, Yval = build_dataset(words=words[n1:n2])\n",
    "Xtest, Ytest = build_dataset(words=words[:n2])\n",
    "\n",
    "(Xtr.shape, Xval.shape, Xtest.shape), (Ytr.shape, Yval.shape, Ytest.shape)"
   ]
  },
  {
   "cell_type": "code",
   "execution_count": null,
   "metadata": {},
   "outputs": [],
   "source": [
    "X,Y = build_dataset(words=words)"
   ]
  },
  {
   "cell_type": "markdown",
   "metadata": {},
   "source": [
    "## Architecture of the Model\n",
    "\n",
    "\n",
    "### Training Set and Objective\n",
    "- The training set is a sequence $ w_1 \\cdots w_T $ of ~~words~~ letters $ w_t \\in V $, where the vocabulary $ V $ is a large but finite set.\n",
    "- The objective is to learn a good model $ f(w_t, \\cdots, w_{t+n}) = \\hat{P}(w_t | w_{t-1}^1) $, which gives a high out-of-sample likelihood.\n",
    "- Perplexity is used as a measure, being the exponential of the average negative log-likelihood.\n",
    "- The constraint on the model is that for any choice of $ w_{t-1}^1 $, the product of these conditional probabilities provides a model of the joint probability of sequences of ~~words~~ letters.\n",
    "\n",
    "### Function Decomposition\n",
    "- The function $ f(w_t, \\cdots, w_{t+n}) = \\hat{P}(w_t | w_{t-1}^1) $ is decomposed into two parts:\n",
    "  1. **Mapping C**: Maps any element $ i $ of $ V $ to a real vector $ C(i) \\in \\mathbb{R}^m $. It represents the distributed feature vectors associated with each word in the vocabulary. Practically, $ C $ is represented by a $ |V| \\times m $ matrix of free parameters.\n",
    "  2. **Probability Function**: Uses $ C $. A function $ g $ maps an input sequence of feature vectors for ~~words~~ letters in context to a conditional probability distribution over ~~words~~ letters in $ V $ for the next word $ w_t $. The output of $ g $ is a vector where the $ i $-th element estimates the probability $ \\hat{P}(w_t = i | w_{t-1}^1) $.\n",
    "\n",
    "$$\n",
    "f(i, w_{t-1}^1, \\cdots, w_{t+n-1}) = g_i(C(w_{t-n+1}), \\cdots, C(w_{t-1}))\n",
    "$$\n",
    "\n",
    "- The function $ f $ is a composition of these two mappings ($ C $ and $ g $), with $ C $ being shared across all ~~words~~letters in the context.\n",
    "- Each part has associated parameters.\n",
    "\n",
    "\n",
    "![Neural architecture For the Model](<./img/Neural Probabilistic Language Model/Screenshot 2024-06-24 at 4.15.21 PM.jpg>)\n",
    "\n",
    "We are implementing an embedding lookup table for our model. With 27 possible characters, we will embed them into a lower-dimensional space. In the referenced paper, they managed to embed 17,000 words into a 30-dimensional space, demonstrating the ability to compress a large vocabulary into a small-dimensional space. For our purposes, we will begin by embedding our 27 characters into a similarly small-dimensional space.\n",
    "\n"
   ]
  },
  {
   "cell_type": "code",
   "execution_count": 135,
   "metadata": {},
   "outputs": [],
   "source": [
    "# Implementing C in the diagram\n",
    "C = torch.randn((27, 2))  # C is initialized with random values\n"
   ]
  },
  {
   "cell_type": "code",
   "execution_count": 136,
   "metadata": {},
   "outputs": [
    {
     "data": {
      "text/plain": [
       "torch.Size([3, 4, 2])"
      ]
     },
     "execution_count": 136,
     "metadata": {},
     "output_type": "execute_result"
    }
   ],
   "source": [
    "t = [[1,2,3,4],\n",
    "     [3,4,5,6],\n",
    "     [5,6,7,8]] # 3*4 \n",
    "\n",
    "temp = C[torch.tensor(t)]\n",
    "temp.shape\n"
   ]
  },
  {
   "cell_type": "code",
   "execution_count": 137,
   "metadata": {},
   "outputs": [
    {
     "data": {
      "text/plain": [
       "torch.Size([228146, 3, 2])"
      ]
     },
     "execution_count": 137,
     "metadata": {},
     "output_type": "execute_result"
    }
   ],
   "source": [
    "emb = C[X]  # Dont really understand the underlying reason for doing this but I get what it does\n",
    "emb.shape  ## This should be X.shape[0], X.shape[1], C.shape[1]\n"
   ]
  },
  {
   "cell_type": "code",
   "execution_count": 138,
   "metadata": {},
   "outputs": [
    {
     "data": {
      "text/plain": [
       "(torch.Size([6, 100]), torch.float32, torch.Size([100]), torch.float32)"
      ]
     },
     "execution_count": 138,
     "metadata": {},
     "output_type": "execute_result"
    }
   ],
   "source": [
    "# Constructing the hidden layer\n",
    "W1 = torch.randn(6,100) # 6 comes from emb.shape[1] * emb.shape[2]\n",
    "b1 = torch.randn(100)\n",
    "W1.shape , W1.dtype, b1.shape, b1.dtype"
   ]
  },
  {
   "cell_type": "code",
   "execution_count": 139,
   "metadata": {},
   "outputs": [],
   "source": [
    "# Now what we want to do is emb . W1 + b1\n",
    "# Problem that is emb is ([228146, 3, 2]) and W1 is [6,100]. SO we need ot change the view for the emb\n",
    "if len(emb.shape) == 3:\n",
    "    New_emb = emb.view( emb.shape[0], emb.shape[1] * emb.shape[2]  )\n",
    "else:\n",
    "    print(\"Emb is already a 2d array \")\n",
    "\n",
    "\n"
   ]
  },
  {
   "cell_type": "markdown",
   "metadata": {},
   "source": [
    "### Understand How View works in Pytorch and why is it efficient ? \n",
    "Read This arcticle: [Blog By Ezyang on Pytorch Internals](http://blog.ezyang.com/2019/05/pytorch-internals/)"
   ]
  },
  {
   "cell_type": "code",
   "execution_count": 140,
   "metadata": {},
   "outputs": [
    {
     "data": {
      "text/plain": [
       "torch.Size([228146, 6])"
      ]
     },
     "execution_count": 140,
     "metadata": {},
     "output_type": "execute_result"
    }
   ],
   "source": [
    "# DO not run this operation the upper block, the values of \n",
    "New_emb.shape"
   ]
  },
  {
   "cell_type": "code",
   "execution_count": 141,
   "metadata": {},
   "outputs": [
    {
     "data": {
      "text/plain": [
       "torch.Size([228146, 6])"
      ]
     },
     "execution_count": 141,
     "metadata": {},
     "output_type": "execute_result"
    }
   ],
   "source": [
    "# Andrej Karpathy Method of doing the same\n",
    "# The view is a better way but he showed this method initially.\n",
    "# Both yielded the same results, \n",
    "# TODO: Investigate the working of this code.\n",
    "temp_emb = torch.cat([emb[:, 0, :], emb[:, 1, :], emb[:, 2, :]], 1)\n",
    "\n",
    "temp_emb.shape"
   ]
  },
  {
   "cell_type": "code",
   "execution_count": 142,
   "metadata": {},
   "outputs": [
    {
     "name": "stdout",
     "output_type": "stream",
     "text": [
      "Are the tensors equal?  True\n"
     ]
    }
   ],
   "source": [
    "# Check if they are equal\n",
    "# Just verifying the math.\n",
    "are_equal = torch.equal(New_emb, temp_emb)\n",
    "print(\"Are the tensors equal? \", are_equal)"
   ]
  },
  {
   "cell_type": "code",
   "execution_count": 143,
   "metadata": {},
   "outputs": [
    {
     "data": {
      "text/plain": [
       "torch.Size([228146, 100])"
      ]
     },
     "execution_count": 143,
     "metadata": {},
     "output_type": "execute_result"
    }
   ],
   "source": [
    "# We can now perform the emb . W1 + b1\n",
    "tanh = torch.tanh(New_emb @ W1 + b1) # Performing the non-linearity function as I calculate the values.\n",
    "tanh.shape\n"
   ]
  },
  {
   "cell_type": "code",
   "execution_count": 144,
   "metadata": {},
   "outputs": [
    {
     "data": {
      "text/plain": [
       "(torch.Size([100, 27]), torch.Size([27]))"
      ]
     },
     "execution_count": 144,
     "metadata": {},
     "output_type": "execute_result"
    }
   ],
   "source": [
    "# Implementing the final layer\n",
    "W2 = torch.randn((100, 27)) # 27 because we have 27 possible characters \n",
    "\n",
    "# performing some math:  tanh @ W2 = [tanh.shape[0], 100]\n",
    "b2  = torch.randn(27)\n",
    "W2.shape, b2.shape"
   ]
  },
  {
   "cell_type": "code",
   "execution_count": 145,
   "metadata": {},
   "outputs": [
    {
     "data": {
      "text/plain": [
       "torch.Size([228146, 27])"
      ]
     },
     "execution_count": 145,
     "metadata": {},
     "output_type": "execute_result"
    }
   ],
   "source": [
    "logits = tanh @ W2 + b2\n",
    "logits.shape"
   ]
  },
  {
   "cell_type": "markdown",
   "metadata": {},
   "source": [
    "# Implementing Softmax Activation Function\n",
    "$$\n",
    "\\sigma(z)i = \\frac{e^{z_i}}{\\sum_{j=1}^K e^{z_j}}\n",
    "$$\n",
    "\n",
    "Here,  $z$  represents the input vector (logits),  $\\sigma(z)_i$  is the softmax output for the  $i^{th}$ class, and  $K$  is the number of classes.\n"
   ]
  },
  {
   "cell_type": "code",
   "execution_count": 146,
   "metadata": {},
   "outputs": [
    {
     "data": {
      "text/plain": [
       "tensor(14.8788)"
      ]
     },
     "execution_count": 146,
     "metadata": {},
     "output_type": "execute_result"
    }
   ],
   "source": [
    "## Do not do this in practise. Pytorch will not create all the intermediary tensors to calculate the loss, and using cross entropy is the best practical solution.\n",
    "# Using cross Entropy pytorch function will make it efficient to calc back prop \n",
    "# Cross ENtropy is the mathematically well behaved, CS231n gets into it, HINT exp can lead to counts values exploding the getting NaN\n",
    "counts = logits.exp()\n",
    "probs = counts / counts.sum(1, keepdim=True)\n",
    "probs.shape\n",
    "loss = -probs[torch.arange(Y.shape[0]), Y].log().mean()\n",
    "loss "
   ]
  },
  {
   "cell_type": "markdown",
   "metadata": {},
   "source": [
    "## -------------------------------- Putting it all together into a model --------------------------------"
   ]
  },
  {
   "cell_type": "code",
   "execution_count": 238,
   "metadata": {},
   "outputs": [],
   "source": [
    "g = torch.Generator().manual_seed(2147483647)\n",
    "C = torch.randn((27, 10))  # C is initialized with random values\n",
    "W1 = torch.randn(30, 200)  # 6 comes from emb.shape[1] * emb.shape[2]\n",
    "b1 = torch.randn(200)\n",
    "W2 = torch.randn((200, 27))  # 27 because we have 27 possible characters\n",
    "b2 = torch.randn(27)  \n",
    "parameters = [C,W1,b1,W2,b2]\n"
   ]
  },
  {
   "cell_type": "code",
   "execution_count": 239,
   "metadata": {},
   "outputs": [
    {
     "data": {
      "text/plain": [
       "11897"
      ]
     },
     "execution_count": 239,
     "metadata": {},
     "output_type": "execute_result"
    }
   ],
   "source": [
    "sum(p.nelement() for p in parameters)"
   ]
  },
  {
   "cell_type": "code",
   "execution_count": 240,
   "metadata": {},
   "outputs": [],
   "source": [
    "for p in parameters:\n",
    "    p.requires_grad = True\n",
    "    "
   ]
  },
  {
   "cell_type": "code",
   "execution_count": 241,
   "metadata": {},
   "outputs": [],
   "source": [
    "\n",
    "# Setting up the learning. A reasonable learning rate is somewhere between -0.001 and -1\n",
    "lre = torch.linspace(start = -3, end = 0, steps = 1000 ) \n",
    "lrs = 10**lre"
   ]
  },
  {
   "cell_type": "code",
   "execution_count": 242,
   "metadata": {},
   "outputs": [],
   "source": [
    "# Keep Track of the learning rate used and the losses\n",
    "lri = []\n",
    "lossi = []\n",
    "stepi = []\n",
    "lr = 10**-2\n"
   ]
  },
  {
   "cell_type": "code",
   "execution_count": 255,
   "metadata": {},
   "outputs": [
    {
     "name": "stdout",
     "output_type": "stream",
     "text": [
      " RESULTING LOSS: 1.673%\n"
     ]
    }
   ],
   "source": [
    "# Putting it all\n",
    "# Forwards pass\n",
    "for epoch in range(200000):\n",
    "    # Implementing Mini Batch\n",
    "    mb = torch.randint(0, Xtr.shape[0], (32,))  # 32 is the batch size.\n",
    "\n",
    "    # emb = C[X]  # X.shape[0], X.shape[1], C.shape[1]\n",
    "    emb = C[Xtr[mb]]  # 32 , X.shape[1], C.shape[1] that is torch.Size([32, 3, 10])\n",
    "\n",
    "    # Tanh activation function\n",
    "    h = torch.tanh(\n",
    "        emb.view(emb.shape[0], emb.shape[1] * emb.shape[2]) @ W1 + b1\n",
    "    )  # Give out X.shape[0], 100, with Mini batch this is now shaped 32, 100\n",
    "\n",
    "    logits = h @ W2 + b2  # Gives out (X.shape , 27)\n",
    "    loss = F.cross_entropy(logits, Ytr[mb])\n",
    "    # print(f\"Epoch: {epoch+1}, loss: {loss.item() :.3f}\")\n",
    "\n",
    "    for p in parameters:\n",
    "        p.grad = None\n",
    "    loss.backward()\n",
    "\n",
    "    # update\n",
    "    lr = 10**-1 if epoch < 100000 else 10**-2\n",
    "    for p in parameters:\n",
    "        p.data += -lr * p.grad\n",
    "\n",
    "    #    tracking stats\n",
    "    # lri.append(lre[epoch])\n",
    "    stepi.append(epoch)\n",
    "    lossi.append(loss.log10().item())\n",
    "\n",
    "print(f\" RESULTING LOSS: {loss.item() :.3f}%\")\n"
   ]
  },
  {
   "cell_type": "code",
   "execution_count": 253,
   "metadata": {},
   "outputs": [
    {
     "data": {
      "text/plain": [
       "[<matplotlib.lines.Line2D at 0x140e23e00>]"
      ]
     },
     "execution_count": 253,
     "metadata": {},
     "output_type": "execute_result"
    },
    {
     "data": {
      "image/png": "[encoded data removed]",
      "text/plain": [
       "<Figure size 640x480 with 1 Axes>"
      ]
     },
     "metadata": {},
     "output_type": "display_data"
    }
   ],
   "source": [
    "plt.plot(stepi, lossi)"
   ]
  },
  {
   "cell_type": "markdown",
   "metadata": {},
   "source": [
    "# Determing the learing Rate\n",
    "We can we that the learning rate is the good at 0.75 to 0.125-ish. As the learning rate gets bigger than, things start to explode. The learning rate from trail and error method is set to $10^{-1}$ or $0.1$"
   ]
  },
  {
   "cell_type": "code",
   "execution_count": 258,
   "metadata": {},
   "outputs": [
    {
     "data": {
      "text/plain": [
       "2.1268277168273926"
      ]
     },
     "execution_count": 258,
     "metadata": {},
     "output_type": "execute_result"
    }
   ],
   "source": [
    "## Evaluating the model on the validation set\n",
    "emb = C[Xval]\n",
    "tanh = torch.tanh(emb.view(emb.shape[0], emb.shape[1] * emb.shape[2])  @ W1 + b1 )\n",
    "logits = tanh @ W2 + b2\n",
    "loss = F.cross_entropy(logits, Yval)\n",
    "loss.item()"
   ]
  },
  {
   "cell_type": "code",
   "execution_count": 251,
   "metadata": {},
   "outputs": [
    {
     "data": {
      "image/png": "[encoded data removed]",
      "text/plain": [
       "<Figure size 600x600 with 1 Axes>"
      ]
     },
     "metadata": {},
     "output_type": "display_data"
    }
   ],
   "source": [
    "plt.figure(figsize=(6, 6))\n",
    "plt.scatter(C[:, 0].data, C[:, 1].data, s=200)\n",
    "for i in range(C.shape[0]):\n",
    "    plt.text(\n",
    "        C[i, 0].item(), C[i, 1].item(), itos[i], ha=\"center\", va=\"center\", color=\"white\"\n",
    "    )\n",
    "plt.grid(\"minor\")"
   ]
  },
  {
   "cell_type": "code",
   "execution_count": 262,
   "metadata": {},
   "outputs": [
    {
     "name": "stdout",
     "output_type": "stream",
     "text": [
      "nas.\n",
      "bent.\n",
      "makeyn.\n",
      "olattathi.\n",
      "lesegh.\n",
      "nao.\n",
      "marchano.\n",
      "keyleey.\n",
      "jami.\n",
      "miyah.\n",
      "peizlyn.\n",
      "kaylenoamiron.\n",
      "gion.\n",
      "ella.\n",
      "arid.\n",
      "lin.\n",
      "sreamerrisha.\n",
      "shaela.\n",
      "pasiyanett.\n",
      "rivornoriellena.\n"
     ]
    }
   ],
   "source": [
    "## Sampling from the model\n",
    "g = torch.Generator().manual_seed(2147483647 - 10)\n",
    "\n",
    "for _ in range(20):\n",
    "    out = []\n",
    "    context = [0] * block_size  # initialize with all ...\n",
    "    while True:\n",
    "        emb = C[torch.tensor([context])]  # (1,block_size,d)\n",
    "        h = torch.tanh(emb.view(1, -1) @ W1 + b1)\n",
    "        logits = h @ W2 + b2\n",
    "        probs = F.softmax(logits, dim=1)\n",
    "        ix = torch.multinomial(probs, num_samples=1, generator=g).item()\n",
    "        context = context[1:] + [ix]\n",
    "        out.append(ix)\n",
    "        if ix == 0:\n",
    "            break\n",
    "\n",
    "    print(\"\".join(itos[i] for i in out))"
   ]
  },
  {
   "cell_type": "code",
   "execution_count": null,
   "metadata": {},
   "outputs": [],
   "source": []
  }
 ],
 "metadata": {
  "kernelspec": {
   "display_name": "book",
   "language": "python",
   "name": "python3"
  },
  "language_info": {
   "codemirror_mode": {
    "name": "ipython",
    "version": 3
   },
   "file_extension": ".py",
   "mimetype": "text/x-python",
   "name": "python",
   "nbconvert_exporter": "python",
   "pygments_lexer": "ipython3",
   "version": "3.12.2"
  }
 },
 "nbformat": 4,
 "nbformat_minor": 2
}
