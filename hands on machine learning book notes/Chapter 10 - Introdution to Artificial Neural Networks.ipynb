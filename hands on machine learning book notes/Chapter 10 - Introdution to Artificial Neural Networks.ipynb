{
 "cells": [
  {
   "cell_type": "markdown",
   "metadata": {},
   "source": [
    "# Introduction to Artificial Neural Network (ANN)\n",
    "\n",
    "**_NOTE_:** After reading online and recommended by friends. PyTorch seems to be a better lib. The code in the book is tensorflow but I'll try my best to convert it into pyTorch code."
   ]
  },
  {
   "cell_type": "markdown",
   "metadata": {},
   "source": [
    "## From Biological to Artificial Neurons\n",
    "\n",
    "Surprisingly, ANNs have been around for quite a while: they were first introduced back in 1943 by the neurophysiologist Warren McCulloch and the mathematician Walter Pitts. In their landmark paper,2 “[A Logical Calculus of Ideas Immanent in Nervous Activity](https://scholar.google.com/scholar?q=A+Logical+Calculus+of+Ideas+Immanent+in+Nervous+Activity+author%3Amcculloch),” McCulloch and Pitts presented a simplified computational model of how biological neurons might work together in animal brains to perform complex computations using propositional logic. This was the first artificial neural network architecture. "
   ]
  },
  {
   "cell_type": "markdown",
   "metadata": {},
   "source": [
    "### Biological Neural\n",
    "\n",
    "A biological neuron, primarily found in animal brains, consists of a cell body with a nucleus, branching extensions called dendrites, and a long extension called the axon. The axon's length can vary greatly and ends in branches called telodendria, which have synaptic terminals at their tips. These terminals connect to the dendrites or cell bodies of other neurons. Neurons receive electrical impulses (signals) via synapses. When enough signals are received within a short time, the neuron fires its own signals.\n",
    "\n",
    "![Biological Neuron](<./img/chapter 10/Screenshot 2024-06-07 at 5.46.05 PM.jpg>)\n",
    "\n",
    "### The Perceptron\n",
    "The Perceptron is one of the simplest ANN architectures, invented in 1957 by Frank Rosenblatt. It is based on a slightly different artificial neuron (see Figure 10-4) called a _threshold logic unit (TLU)_ , or sometimes a linear threshold unit (LTU): the inputs and output are now numbers (instead of binary on/off values) and each input con‐ nection is associated with a weight. The TLU computes a weighted sum of its inputs ($z = w_1 x_1 + w_2 x_2 + ⋯ + w_n x_n = x^T w$), then applies a step function to that sum and outputs the result: $h_{w}(\\mathbf{x}) = \\text{step}(z), \\text{where} \\; \\mathbf{z} = \\mathbf{x}^T \\mathbf{w}$.\n",
    "\n",
    "![Threshold Logic Unit](<./img/chapter 10/Screenshot 2024-06-07 at 5.50.52 PM.jpg>)\n",
    "\n",
    "The most common step function used in Perceptrons is the Heaviside step function\n",
    "\n",
    "$$\n",
    "\\text{Equation 10.1 : Common Step Functions used in Perceptron} \\\\ \\\\ \n",
    "\n",
    "\\text{heaviside}(z) = \n",
    "\\begin{cases} \n",
    "0 & \\text{if } z < 0 \\\\\n",
    "1 & \\text{if } z \\geq 0 \n",
    "\\end{cases}\n",
    "$$\n",
    "\n",
    "$$\n",
    "\\text{sgn}(z) = \n",
    "\\begin{cases} \n",
    "-1 & \\text{if } z < 0 \\\\\n",
    "0 & \\text{if } z = 0 \\\\\n",
    "+1 & \\text{if } z > 0 \n",
    "\\end{cases}\n",
    "$$\n",
    "\n",
    "A Perceptron is simply composed of a single layer of TLUs, with each TLU connected to all the inputs. When all the neurons in a layer are connected to every neuron in the previous layer (i.e., its input neurons), it is called a fully connected layer or a dense layer. \n",
    "\n",
    "In 1949, Donald Hebb suggested that when a biological neuron frequently triggers another neuron, the connection between them strengthens. This concept, summarized by Siegrid Löwel as \"Cells that fire together, wire together,\" is known as Hebb's rule (or Hebbian learning). According to this rule, the connection weight between two neurons increases when they have the same output.\n",
    "\n",
    "Perceptrons are trained using a variant of this rule that considers the network's error, reinforcing connections that reduce the error. Specifically, the Perceptron processes one training instance at a time and makes predictions. For every output neuron that makes an incorrect prediction, it reinforces the connection weights from the inputs that would have led to the correct prediction.\n",
    "\n",
    "$$\n",
    "w_{i,j}^{(\\text{next step})} = w_{i,j} + \\eta (y_j - \\hat{y}_j) x_i\n",
    "$$\n",
    "\n",
    "- $ w_{i,j} $ is the connection weight between the $ i $-th input neuron and the $ j $-th output neuron.\n",
    "- $ x_i $ is the $ i $-th input value of the current training instance.\n",
    "- $ \\hat{y}_j $ is the output of the $ j $-th output neuron for the current training instance.\n",
    "- $ y_j $ is the target output of the $ j $-th output neuron for the current training instance.\n",
    "- $ \\eta $ is the learning rate."
   ]
  },
  {
   "cell_type": "markdown",
   "metadata": {},
   "source": [
    "## Multi Layer Perceptron and Back Propagation\n",
    "\n",
    "An MLP is composed of one (passthrough) input layer, one or more layers of TLUs, called hidden layers, and one final layer of TLUs called the output layer (see Figure 10-7). The layers close to the input layer are usually called the lower layers, and the ones close to the outputs are usually called the upper layers. Every layer except the output layer includes a bias neuron and is fully connected to the next layer.\n",
    "\n",
    "![Multi-Layer Perceptron](<./img/chapter 10/Screenshot 2024-06-07 at 6.17.40 PM.jpg>)\n",
    "\n",
    "When an artificial neural network (ANN) has many hidden layers, it is called a deep neural network (DNN). Deep Learning is the study of DNNs and models with deep stacks of computations. However, many people refer to Deep Learning whenever neural networks are mentioned, even if they are shallow.\n",
    "\n",
    "But in 1986, David Rumelhart, Geoffrey Hinton and Ronald Williams published a [groundbreaking paper](https://scholar.google.com/scholar?q=Learning+Internal+Representations+by+Error+Propagation+author%3Arumelhart) introducing the backpropagation training algorithm, which is still used today. In short, it is simply Gradient Descent using an efficient technique for computing the gradients automatically: in just two passes through the network (one forward, one backward), the backpropagation algorithm is able to compute the gradient of the network’s error with regards to every single model parameter. In other words, it can find out how each connection weight and each bias term should be tweaked in order to reduce the error. Once it has these gradients, it just performs a regular Gradient Descent step, and the whole process is repeated until the network converges to the solution.\n",
    "\n",
    "\n",
    "\n",
    "$$\n",
    "\\begin{align*}\n",
    "\\text{Equation : Computing the } & \\text{outputs of a fully connected layer.} \\\\ \n",
    "h_{W,b}(\\mathbf{X}) & = \\phi(\\mathbf{XW} + \\mathbf{b}) \n",
    "\\end{align*}\n",
    "$$\n",
    "\n",
    "- **Input Matrix ($\\mathbf{X}$)**: Represents the matrix of input features. Each row corresponds to an instance, and each column corresponds to a feature.\n",
    "- **Weight Matrix ($\\mathbf{W}$)**: Contains all the connection weights except for the ones from the bias neuron. It has one row per input neuron and one column per artificial neuron in the layer.\n",
    "- **Bias Vector ($\\mathbf{b}$)**: Contains all the connection weights between the bias neuron and the artificial neurons. It has one bias term per artificial neuron.\n",
    "- **Activation Function ($\\phi$)**: Called the activation function. When the artificial neurons are Threshold Logic Units (TLUs), it is a step function. Other activation functions will be discussed shortly.\n",
    "\n",
    "For each training instance the backpropagation algorithm first makes a prediction (forward pass), measures the error, then goes through each layer in reverse to measure the error con‐ tribution from each connection (reverse pass), and finally slightly tweaks the connection weights to reduce the error (Gradient Descent step)."
   ]
  },
  {
   "cell_type": "markdown",
   "metadata": {},
   "source": [
    "[another resource\n",
    "](https://www.youtube.com/watch?v=SmZmBKc7Lrs)"
   ]
  },
  {
   "cell_type": "markdown",
   "metadata": {},
   "source": [
    "### Context and Problem\n",
    "\n",
    "In machine learning, especially in neural networks, an activation function is used to introduce non-linearity into the model. This non-linearity is crucial because it allows the network to learn and model more complex patterns in the data.\n",
    "\n",
    "### Original Setup\n",
    "\n",
    "Initially, the Multilayer Perceptron (MLP) architecture used a step function as the activation function. The step function is binary—it outputs one value if the input is above a certain threshold and another value if it's below.\n",
    "\n",
    "### Issue with the Step Function\n",
    "\n",
    "The problem with the step function is that it only outputs flat segments (either 0 or 1). This creates a significant issue during training with Gradient Descent, a common optimization algorithm. Gradient Descent relies on gradients (derivatives) to update the model's parameters. However, the step function doesn't have a gradient (its derivative is zero everywhere except at the threshold), meaning Gradient Descent can't effectively update the weights, as it has no slope to follow.\n",
    "\n",
    "### Solution: Logistic Function\n",
    "\n",
    "To address this, the authors replaced the step function with the logistic function, also known as the sigmoid function. The logistic function is defined as:\n",
    "\n",
    "$$\n",
    "\\sigma(z) = \\frac{1}{1 + e^{-z}}\n",
    "$$\n",
    "\n",
    "The logistic function has a smooth, S-shaped curve that outputs values between 0 and 1. Unlike the step function, the logistic function has a well-defined, non-zero derivative everywhere. This smooth gradient allows Gradient Descent to make progress at every step, enabling the model to learn more effectively.\n",
    "\n",
    "### Importance of Non-zero Derivative\n",
    "\n",
    "The logistic function’s non-zero derivative means that small changes in the input (weights) produce small changes in the output, which is crucial for the Gradient Descent algorithm to find the minimum of the loss function. This enables the neural network to adjust its weights in small increments, improving its accuracy over time.\n",
    "\n",
    "### Broader Implications\n",
    "\n",
    "This improvement isn’t limited to just the logistic function. The backpropagation algorithm, which is used to train neural networks, works well with many other activation functions that have non-zero derivatives. These include:\n",
    "\n",
    "- **Tanh (Hyperbolic Tangent)**: Similar to the logistic function but outputs values between -1 and 1, which tends to make each layer’s output more or less centered around 0 at the beginning of training. This often helps speed up convergence. $$\\begin{align*} tanh(z) = 2\\sigma(2z) -1 \\end{align*}$$ \n",
    "- **ReLU (Rectified Linear Unit)**: It is continuous but unfortunately not differentiable at z = 0 (the slope changes abruptly, which can make Gradient Descent bounce around), and its derivative is 0 for z < 0. Outputs the input directly if it’s positive; otherwise, it outputs zero. It has become very popular due to its simplicity and effectiveness. $$\\begin{align*} ReLU(z) = max(0,z) \\end{align*}$$\n",
    "\n",
    "These popular activation functions and their derivatives are represented in Figure 10-8. \n",
    "\n",
    "![Activation Functions and their Derivatives](<./img/chapter 10/Screenshot 2024-06-09 at 4.35.43 PM.jpg>)\n"
   ]
  },
  {
   "cell_type": "markdown",
   "metadata": {},
   "source": [
    "## Regression MLPs\n",
    "\n",
    "Multilayer Perceptrons (MLPs) can be effectively used for regression tasks, predicting continuous values such as house prices with a single output neuron. For predicting multiple values, like the 2D coordinates of an object's center, multiple output neurons are used, with one neuron per value. For instance, predicting both the coordinates and the bounding box of an object requires four output neurons. Generally, no activation function is used for output neurons in regression, allowing any range of values. However, if outputs need to be positive, the ReLU or softplus functions can be used, and for outputs within a specific range, the logistic or hyperbolic tangent functions are suitable. The mean squared error (MSE) is the typical loss function for training, but for datasets with many outliers, mean absolute error (MAE) or the Huber loss, which combines MSE and MAE, may be preferred.\n",
    "\n",
    "\n",
    "| Hyperparameter            | Typical Value                                                                         |\n",
    "|:---------------------------|---------------------------------------------------------------------------------------|\n",
    "| \\# input neurons           | One per input feature (e.g., $28 \\times 28 = 784$ for MNIST)                                 |\n",
    "| \\# hidden layers           | Depends on the problem. Typically 1 to 5.                                             |\n",
    "| \\# neurons per hidden layer| Depends on the problem. Typically 10 to 100.                                          |\n",
    "| \\# output neurons          | 1 per prediction dimension                                                           |\n",
    "| Hidden activation         | ReLU (or SELU)                                                        |\n",
    "| Output activation         | None or ReLU/Softplus (if positive outputs) or Logistic/Tanh (if bounded outputs)    |\n",
    "| Loss function             | MSE or MAE/Huber (if outliers)                                                       |"
   ]
  },
  {
   "cell_type": "markdown",
   "metadata": {},
   "source": [
    "## Classification MLPs\n",
    "\n",
    "MLPs can also be used for classification tasks. For a binary classification problem, you just need a single output neuron using the logistic activation function: the output will be a number between 0 and 1, which you can interpret as the estimated probabil‐ ity of the positive class.\n",
    "\n",
    "Multilayer Perceptrons (MLPs) are well-suited for handling multilabel binary classification tasks. For instance, in an email classification system, an MLP can predict both whether an email is spam or ham and whether it is urgent or non-urgent. This requires two output neurons, each using the logistic activation function. The first neuron outputs the probability that the email is spam, and the second outputs the probability that it is urgent. Each positive class (spam, urgent) gets a dedicated output neuron. The output probabilities do not need to sum to one, allowing for various combinations of labels such as non-urgent ham, urgent ham, non-urgent spam, and urgent spam.\n",
    "\n",
    "If each instance can belong only to a single class, out of 3 or more possible classes (e.g., classes 0 through 9 for digit image classification), then you need to have one output neuron per class, and you should use the softmax activation function for the whole output layer (see Figure 10-9). The softmax function (introduced in Chapter 4) will ensure that all the estimated probabilities are between 0 and 1 and that they add up to one (which is required if the classes are exclusive). This is called multiclass clas‐ sification.\n",
    "\n",
    "![A Modern MLP (including ReLU and softmax) ](<./img/chapter 10/Screenshot 2024-06-09 at 5.51.55 PM.jpg>)\n",
    "\n",
    "Regarding the loss function, since we are predicting probability distributions, the cross-entropy (also called the log loss, see Chapter 4) is generally a good choice.\n",
    "\n",
    "Table 10-2 : Typical Classification MLP Archtecture\n",
    "\n",
    "| Hyperparameter              | Binary Classification      | Multilabel Binary Classification | Multiclass Classification      |\n",
    "|-----------------------------|----------------------------|----------------------------------|-------------------------------|\n",
    "| Input and hidden layers     | Same as regression         | Same as regression               | Same as regression            |\n",
    "| # output neurons            | 1                          | 1 per label                      | 1 per class                   |\n",
    "| Output layer activation     | Logistic                   | Logistic                         | Softmax                       |\n",
    "| Loss function               | Cross-Entropy              | Cross-Entropy                    | Cross-Entropy                 |"
   ]
  },
  {
   "cell_type": "code",
   "execution_count": 2,
   "metadata": {},
   "outputs": [],
   "source": [
    "# import libs\n",
    "import torch\n",
    "from torchvision import datasets, transforms\n",
    "from torch.utils.data import DataLoader, random_split"
   ]
  },
  {
   "cell_type": "code",
   "execution_count": 3,
   "metadata": {},
   "outputs": [],
   "source": [
    "# Define a transformer to normlize this data\n",
    "# Convert the input to tensors and noramlize it\n",
    "\n",
    "transform = transforms.Compose(\n",
    "    [transforms.ToTensor(), transforms.Normalize((0.5,), (0.5,))]\n",
    ")"
   ]
  },
  {
   "cell_type": "markdown",
   "metadata": {},
   "source": [
    "### What is Normalization and Why is It Helpful?\n",
    "Normalizing a set of data transforms the set of data to be on a similar scale. For machine learning models, our goal is usually to recenter and rescale our data such that is between 0 and 1 or -1 and 1, depending on the data itself. One common way to accomplish this is to calculate the mean and the standard deviation on the set of data and transform each sample by subtracting the mean and dividing by the standard deviation, which is good if we assume that the data follows a normal distribution as this method helps us standardize the data and achieve a standard normal distribution.\n",
    "\n",
    "Normalization can help training of our neural networks as the different features are on a similar scale, which helps to stabilize the gradient descent step, allowing us to use larger learning rates or help models converge faster for a given learning rate.\n",
    "\n"
   ]
  },
  {
   "cell_type": "code",
   "execution_count": 4,
   "metadata": {},
   "outputs": [
    {
     "data": {
      "text/plain": [
       "(torch.Size([60000, 28, 28]), torch.Size([10000, 28, 28]))"
      ]
     },
     "execution_count": 4,
     "metadata": {},
     "output_type": "execute_result"
    }
   ],
   "source": [
    "# Download the data and load the dataset\n",
    "# In my case the datasets are already downloaded so download=False\n",
    "training_data = datasets.FashionMNIST(\n",
    "    \"./datasets/FashionMNIST\", train=True, download=False, transform=transform\n",
    ")\n",
    "\n",
    "testing_data = datasets.FashionMNIST(\n",
    "    \"./datasets/FashionMNIST\", train=False, download=False, transform=transform\n",
    ")\n",
    "\n",
    "\n",
    "# index_to_class = {i:s for i,s in enumerate(training_data.classes)}\n",
    "training_data.data.shape, testing_data.data.shape"
   ]
  },
  {
   "cell_type": "code",
   "execution_count": 5,
   "metadata": {},
   "outputs": [
    {
     "data": {
      "text/plain": [
       "((torch.uint8, torch.Size([60000, 28, 28])),\n",
       " (torch.uint8, torch.Size([10000, 28, 28])))"
      ]
     },
     "execution_count": 5,
     "metadata": {},
     "output_type": "execute_result"
    }
   ],
   "source": [
    "(\n",
    "    (training_data.data.dtype, training_data.data.shape),\n",
    "    (testing_data.data.dtype, testing_data.data.shape),\n",
    ")"
   ]
  },
  {
   "cell_type": "code",
   "execution_count": 6,
   "metadata": {},
   "outputs": [],
   "source": [
    "# Split the datasets for training and validation\n",
    "train_size = 55000  # int(0.8 * len(training_data))\n",
    "validation_size = 5000  # int(0.2 * len(training_data))\n",
    "\n",
    "train_dataset, validation_dataset = random_split(\n",
    "    training_data, lengths=[train_size, validation_size]\n",
    ")"
   ]
  },
  {
   "cell_type": "code",
   "execution_count": 7,
   "metadata": {},
   "outputs": [
    {
     "data": {
      "text/plain": [
       "(<torch.utils.data.dataloader.DataLoader at 0x112ba50a0>,\n",
       " <torch.utils.data.dataloader.DataLoader at 0x112b8be30>,\n",
       " <torch.utils.data.dataloader.DataLoader at 0x112b8bdd0>)"
      ]
     },
     "execution_count": 7,
     "metadata": {},
     "output_type": "execute_result"
    }
   ],
   "source": [
    "# Creating dataloaders\n",
    "batch_size = 64\n",
    "\n",
    "train_loader = DataLoader(\n",
    "    train_dataset,\n",
    "    batch_size=batch_size,\n",
    "    shuffle=True,\n",
    "    num_workers=4,\n",
    "    pin_memory=True,\n",
    "    prefetch_factor=2,\n",
    ")  # num_workers for efficient utilize CPU cores and  Memory\n",
    "val_loader = DataLoader(validation_dataset, batch_size=batch_size, shuffle=False)\n",
    "test_loader = DataLoader(testing_data, batch_size=batch_size, shuffle=False)\n",
    "\n",
    "train_loader, val_loader, test_loader"
   ]
  },
  {
   "cell_type": "code",
   "execution_count": 8,
   "metadata": {},
   "outputs": [
    {
     "data": {
      "text/plain": [
       "['T-shirt/top',\n",
       " 'Trouser',\n",
       " 'Pullover',\n",
       " 'Dress',\n",
       " 'Coat',\n",
       " 'Sandal',\n",
       " 'Shirt',\n",
       " 'Sneaker',\n",
       " 'Bag',\n",
       " 'Ankle boot']"
      ]
     },
     "execution_count": 8,
     "metadata": {},
     "output_type": "execute_result"
    }
   ],
   "source": [
    "classes_name = training_data.classes\n",
    "classes_name"
   ]
  },
  {
   "cell_type": "code",
   "execution_count": 9,
   "metadata": {},
   "outputs": [
    {
     "data": {
      "text/plain": [
       "device(type='mps')"
      ]
     },
     "execution_count": 9,
     "metadata": {},
     "output_type": "execute_result"
    }
   ],
   "source": [
    "# Setting devices for MPS support, incase of the M1 macbook. This may differ depending upon the computer\n",
    "device = (\n",
    "    torch.device(\"mps\") if torch.backends.mps.is_available() else torch.device(\"cpu\")\n",
    ")\n",
    "device"
   ]
  },
  {
   "cell_type": "code",
   "execution_count": 10,
   "metadata": {},
   "outputs": [],
   "source": [
    "import torch.nn as nn\n",
    "import torch.nn.functional as F\n",
    "    \n",
    "class FashionMNISTModel(nn.Module):\n",
    "    def __init__(self):\n",
    "        super(FashionMNISTModel, self).__init__()\n",
    "        self.flatten = nn.Flatten()\n",
    "        self.fc1 = nn.Linear(28 * 28, 300)\n",
    "        self.fc2 = nn.Linear(300, 100)\n",
    "        self.fc3 = nn.Linear(100, 10)\n",
    "\n",
    "    def forward(self, x):\n",
    "        x = self.flatten(x)\n",
    "        x = F.relu(self.fc1(x))\n",
    "        x = F.relu(self.fc2(x))\n",
    "        x = self.fc3(x)\n",
    "        return x\n"
   ]
  },
  {
   "cell_type": "code",
   "execution_count": 11,
   "metadata": {},
   "outputs": [],
   "source": [
    "# For Summarizing models for Pytorch\n",
    "from collections import OrderedDict\n",
    "\n",
    "def model_summary(model, input_size):\n",
    "    def register_hook(module):\n",
    "        def hook(module, input, output):\n",
    "            class_name = str(module.__class__).split(\".\")[-1].split(\"'\")[0]\n",
    "            module_idx = len(summary)\n",
    "            m_key = \"%s-%i\" % (class_name, module_idx + 1)\n",
    "            summary[m_key] = OrderedDict()\n",
    "            summary[m_key][\"input_shape\"] = list(input[0].size())\n",
    "            summary[m_key][\"input_shape\"][0] = batch_size\n",
    "            if isinstance(output, (list, tuple)):\n",
    "                summary[m_key][\"output_shape\"] = [\n",
    "                    [-1] + list(o.size())[1:] for o in output\n",
    "                ]\n",
    "            else:\n",
    "                summary[m_key][\"output_shape\"] = list(output.size())\n",
    "                summary[m_key][\"output_shape\"][0] = batch_size\n",
    "            params = 0\n",
    "            if hasattr(module, \"weight\") and hasattr(module.weight, \"size\"):\n",
    "                params += torch.prod(torch.LongTensor(list(module.weight.size())))\n",
    "                summary[m_key][\"trainable\"] = module.weight.requires_grad\n",
    "            if hasattr(module, \"bias\") and hasattr(module.bias, \"size\"):\n",
    "                params += torch.prod(torch.LongTensor(list(module.bias.size())))\n",
    "            summary[m_key][\"nb_params\"] = params\n",
    "\n",
    "        if (\n",
    "            not isinstance(module, nn.Sequential)\n",
    "            and not isinstance(module, nn.ModuleList)\n",
    "            and not (module == model)\n",
    "        ):\n",
    "            hooks.append(module.register_forward_hook(hook))\n",
    "\n",
    "    device = (\n",
    "        torch.device(\"mps\")\n",
    "        if torch.backends.mps.is_available()\n",
    "        else torch.device(\"cpu\")\n",
    "    )\n",
    "    model.to(device)\n",
    "\n",
    "    summary = OrderedDict()\n",
    "    hooks = []\n",
    "    model.apply(register_hook)\n",
    "\n",
    "    x = torch.zeros((1, *input_size)).to(device)\n",
    "    model(x)\n",
    "\n",
    "    for h in hooks:\n",
    "        h.remove()\n",
    "\n",
    "    print(\"----------------------------------------------------------------\")\n",
    "    print(\"{:>20}  {:>25} {:>15}\".format(\"Layer (type)\", \"Output Shape\", \"Param #\"))\n",
    "    print(\"================================================================\")\n",
    "    total_params = 0\n",
    "    total_output = 0\n",
    "    trainable_params = 0\n",
    "    for layer in summary:\n",
    "        line_new = \"{:>20}  {:>25} {:>15}\".format(\n",
    "            layer,\n",
    "            str(summary[layer][\"output_shape\"]),\n",
    "            \"{0:,}\".format(summary[layer][\"nb_params\"]),\n",
    "        )\n",
    "        total_params += summary[layer][\"nb_params\"]\n",
    "        total_output += torch.prod(torch.LongTensor(summary[layer][\"output_shape\"]))\n",
    "        if \"trainable\" in summary[layer]:\n",
    "            if summary[layer][\"trainable\"]:\n",
    "                trainable_params += summary[layer][\"nb_params\"]\n",
    "        print(line_new)\n",
    "\n",
    "    total_input_size = abs(torch.prod(torch.LongTensor(input_size)) * batch_size)\n",
    "    total_output_size = abs(total_output * 4.0)  # x4 for float32\n",
    "    total_params_size = abs(total_params * 4.0)  # x4 for float32\n",
    "    total_size = total_params_size + total_output_size + total_input_size\n",
    "\n",
    "    print(\"================================================================\")\n",
    "    print(\"Total params: {0:,}\".format(total_params))\n",
    "    print(\"Trainable params: {0:,}\".format(trainable_params))\n",
    "    print(\"Non-trainable params: {0:,}\".format(total_params - trainable_params))\n",
    "    print(\"----------------------------------------------------------------\")\n",
    "    print(\"Input size (MB): %0.2f\" % (total_input_size / (1024**2.0)))\n",
    "    print(\"Forward/backward pass size (MB): %0.2f\" % (total_output_size / (1024**2.0)))\n",
    "    print(\"Params size (MB): %0.2f\" % (total_params_size / (1024**2.0)))\n",
    "    print(\"Estimated Total Size (MB): %0.2f\" % (total_size / (1024**2.0)))\n",
    "    print(\"----------------------------------------------------------------\")\n",
    "\n"
   ]
  },
  {
   "cell_type": "markdown",
   "metadata": {},
   "source": [
    "### Explanation for the code line by line\n",
    "\n",
    "1. FashionMNISTModel is a subclass of nn.Module, which is the base class for all neural network modules in PyTorch.\n",
    "2. This is a sequential model. It is  just composed of a single stack of layers, connected sequentially.\n",
    "3. Suppose you have a batch of images with the shape [batch_size, channels, height, width] (e.g., [64, 1, 28, 28] for a batch of 64 grayscale 28x28 images). After applying nn.Flatten(), the shape becomes [batch_size,  channels * height * width] (e.g., [64, 784] for the previous example). This transformation flattens each image into a vector of size 784 while preserving the batch dimension. \n",
    "4. Next we add a hidden layer with 300 neurons. It will use the ReLU activa‐ tion function. Each Dense layer manages its own weight matrix, containing all the connection weights between the neurons and their inputs. It also manages a vector of bias terms (one per neuron).\n",
    "5. Next we add a second hidden layer with 100 neurons, also using the ReLU activation function.\n",
    "6. Finally, we add a output layer with 10 neurons (one per class), using the softmax activation function (because the classes are exclusive)."
   ]
  },
  {
   "cell_type": "code",
   "execution_count": 12,
   "metadata": {},
   "outputs": [
    {
     "name": "stdout",
     "output_type": "stream",
     "text": [
      "----------------------------------------------------------------\n",
      "        Layer (type)               Output Shape         Param #\n",
      "================================================================\n",
      "           Flatten-1                  [64, 784]               0\n",
      "            Linear-2                  [64, 300]         235,500\n",
      "            Linear-3                  [64, 100]          30,100\n",
      "            Linear-4                   [64, 10]           1,010\n",
      "================================================================\n",
      "Total params: 266,610\n",
      "Trainable params: 266,610\n",
      "Non-trainable params: 0\n",
      "----------------------------------------------------------------\n",
      "Input size (MB): 0.05\n",
      "Forward/backward pass size (MB): 0.29\n",
      "Params size (MB): 1.02\n",
      "Estimated Total Size (MB): 1.36\n",
      "----------------------------------------------------------------\n"
     ]
    }
   ],
   "source": [
    "# Making a FashionMNISTModel object and running it on the MPS.\n",
    "model = FashionMNISTModel().to(device=device)\n",
    "\n",
    "# Print the model summary\n",
    "model_summary(model, (1, 28, 28))"
   ]
  },
  {
   "cell_type": "code",
   "execution_count": 13,
   "metadata": {},
   "outputs": [
    {
     "name": "stdout",
     "output_type": "stream",
     "text": [
      "Layer Name: , Layer Type: FashionMNISTModel\n",
      "Layer Name: flatten, Layer Type: Flatten\n",
      "Layer Name: fc1, Layer Type: Linear\n",
      "Layer Name: fc2, Layer Type: Linear\n",
      "Layer Name: fc3, Layer Type: Linear\n"
     ]
    }
   ],
   "source": [
    "for name, module in model.named_modules():\n",
    "    print(f\"Layer Name: {name}, Layer Type: {module.__class__.__name__}\")"
   ]
  },
  {
   "cell_type": "code",
   "execution_count": 14,
   "metadata": {},
   "outputs": [],
   "source": [
    "loss_fn = nn.CrossEntropyLoss()\n",
    "optimizer = torch.optim.SGD(model.parameters(), lr=0.001)"
   ]
  },
  {
   "cell_type": "code",
   "execution_count": 15,
   "metadata": {},
   "outputs": [
    {
     "name": "stdout",
     "output_type": "stream",
     "text": [
      "Epoch [1/50], Loss: 2.1600, Accuracy: 31.74%\n",
      "Epoch [2/50], Loss: 1.6604, Accuracy: 52.23%\n",
      "Epoch [3/50], Loss: 1.1916, Accuracy: 66.70%\n",
      "Epoch [4/50], Loss: 0.9493, Accuracy: 71.42%\n",
      "Epoch [5/50], Loss: 0.8215, Accuracy: 73.18%\n",
      "Epoch [6/50], Loss: 0.7479, Accuracy: 74.11%\n",
      "Epoch [7/50], Loss: 0.7013, Accuracy: 74.98%\n",
      "Epoch [8/50], Loss: 0.6687, Accuracy: 75.76%\n",
      "Epoch [9/50], Loss: 0.6438, Accuracy: 76.61%\n",
      "Epoch [10/50], Loss: 0.6233, Accuracy: 77.19%\n",
      "Epoch [11/50], Loss: 0.6060, Accuracy: 77.88%\n",
      "Epoch [12/50], Loss: 0.5908, Accuracy: 78.58%\n",
      "Epoch [13/50], Loss: 0.5773, Accuracy: 79.08%\n",
      "Epoch [14/50], Loss: 0.5648, Accuracy: 79.60%\n",
      "Epoch [15/50], Loss: 0.5536, Accuracy: 80.05%\n",
      "Epoch [16/50], Loss: 0.5434, Accuracy: 80.49%\n",
      "Epoch [17/50], Loss: 0.5342, Accuracy: 80.89%\n",
      "Epoch [18/50], Loss: 0.5257, Accuracy: 81.23%\n",
      "Epoch [19/50], Loss: 0.5181, Accuracy: 81.59%\n",
      "Epoch [20/50], Loss: 0.5109, Accuracy: 81.84%\n",
      "Epoch [21/50], Loss: 0.5044, Accuracy: 82.12%\n",
      "Epoch [22/50], Loss: 0.4985, Accuracy: 82.33%\n",
      "Epoch [23/50], Loss: 0.4930, Accuracy: 82.45%\n",
      "Epoch [24/50], Loss: 0.4878, Accuracy: 82.69%\n",
      "Epoch [25/50], Loss: 0.4831, Accuracy: 82.88%\n",
      "Epoch [26/50], Loss: 0.4787, Accuracy: 83.08%\n",
      "Epoch [27/50], Loss: 0.4744, Accuracy: 83.21%\n",
      "Epoch [28/50], Loss: 0.4704, Accuracy: 83.36%\n",
      "Epoch [29/50], Loss: 0.4666, Accuracy: 83.45%\n",
      "Epoch [30/50], Loss: 0.4632, Accuracy: 83.66%\n",
      "Epoch [31/50], Loss: 0.4599, Accuracy: 83.79%\n",
      "Epoch [32/50], Loss: 0.4566, Accuracy: 83.88%\n",
      "Epoch [33/50], Loss: 0.4537, Accuracy: 83.96%\n",
      "Epoch [34/50], Loss: 0.4509, Accuracy: 84.02%\n",
      "Epoch [35/50], Loss: 0.4479, Accuracy: 84.08%\n",
      "Epoch [36/50], Loss: 0.4452, Accuracy: 84.23%\n",
      "Epoch [37/50], Loss: 0.4425, Accuracy: 84.33%\n",
      "Epoch [38/50], Loss: 0.4400, Accuracy: 84.40%\n",
      "Epoch [39/50], Loss: 0.4377, Accuracy: 84.46%\n",
      "Epoch [40/50], Loss: 0.4353, Accuracy: 84.59%\n",
      "Epoch [41/50], Loss: 0.4331, Accuracy: 84.68%\n",
      "Epoch [42/50], Loss: 0.4309, Accuracy: 84.72%\n",
      "Epoch [43/50], Loss: 0.4288, Accuracy: 84.76%\n",
      "Epoch [44/50], Loss: 0.4267, Accuracy: 84.87%\n",
      "Epoch [45/50], Loss: 0.4248, Accuracy: 84.91%\n",
      "Epoch [46/50], Loss: 0.4228, Accuracy: 85.03%\n",
      "Epoch [47/50], Loss: 0.4208, Accuracy: 85.05%\n",
      "Epoch [48/50], Loss: 0.4189, Accuracy: 85.16%\n",
      "Epoch [49/50], Loss: 0.4171, Accuracy: 85.25%\n",
      "Epoch [50/50], Loss: 0.4155, Accuracy: 85.29%\n",
      "Training complete\n"
     ]
    }
   ],
   "source": [
    "num_epochs = 50\n",
    "\n",
    "for epoch in range(num_epochs):\n",
    "    # Model is set to training mode\n",
    "    model.train()\n",
    "    \n",
    "    # Initializes new values at each epoch\n",
    "    running_loss= 0.0\n",
    "    correct, total = 0,0\n",
    "    \n",
    "    \n",
    "    # Batch Loop\n",
    "    for data, target in train_loader:\n",
    "        \n",
    "        data, target = data.to(device), target.to(device)\n",
    "        \n",
    "        # Zero the parameter gradients\n",
    "        optimizer.zero_grad()\n",
    "        \n",
    "        # Forward pass\n",
    "        outputs = model(data)\n",
    "        loss = loss_fn(outputs, target) # This is calculating the loss from the outputs from the forward pass and the real output in the data set\n",
    "        \n",
    "        # Backward pass and optimization\n",
    "        loss.backward() # Calculate the gardient of the loss with respect to model parameter\n",
    "        optimizer.step() # Updates the model parameters using the gradients computed during the backward pass   \n",
    "        \n",
    "        \n",
    "        # Accumulates the loss for the current batch\n",
    "        running_loss += loss.item() * data.size(0)\n",
    "        \n",
    "        # Calculate accuracy\n",
    "        _, predicted = torch.max(outputs, 1)\n",
    "        total += target.size(0)\n",
    "        correct += (predicted == target).sum().item()\n",
    "    \n",
    "    \n",
    "    epoch_loss = running_loss / len(train_loader.dataset) # Epoch loss calculates the average loss over the dataset\n",
    "    accuracy = 100 * correct / total # accuracy is the % accuracy of the model.\n",
    "    print(f'Epoch [{epoch+1}/{num_epochs}], Loss: {epoch_loss:.4f}, Accuracy: {accuracy:.2f}%')\n",
    "\n",
    "print(\"Training complete\")"
   ]
  },
  {
   "cell_type": "markdown",
   "metadata": {},
   "source": [
    "### Explation of the code \n",
    "\n",
    "\n",
    "1. Setting the number of the times the entire dataset will pass through the network  \n",
    "2. Training the Model. The model.train() call sets the model to training mode, enabling features like dropout and batch normalization.\n",
    "3. Initialize each varibable to track loss and accuracy\n",
    "4. Batch Loop : Iterates through batches of data. train_loader provides batches of images and their corresponding labels. Each batch is moved to the appropriate device (CPU or MPS).\n",
    "5. Zero Gradients \n",
    "6. Performing a forward pass and calculate the loss. The funtion uses CrossEntropyLoss which is a combination of LogSoftmax and NLLLoss\n",
    "7. Perform back propagation and update the model parameters using the gradients calculated.\n",
    "8. Track the loss over the batch.\n",
    "9. Calculate accuracy of the model."
   ]
  },
  {
   "cell_type": "code",
   "execution_count": 16,
   "metadata": {},
   "outputs": [
    {
     "name": "stdout",
     "output_type": "stream",
     "text": [
      "Accuracy of the model on the test images: 85.34%\n"
     ]
    }
   ],
   "source": [
    "model.eval()  # Set the model to evaluation mode\n",
    "correct = 0\n",
    "total = 0\n",
    "\n",
    "with torch.no_grad():\n",
    "    # Testing the model of validation data\n",
    "    for data, target in val_loader:\n",
    "        data, target = data.to(device), target.to(device)\n",
    "        outputs = model(data)\n",
    "        _, predicted = torch.max(outputs.data, 1)\n",
    "        total += target.size(0)\n",
    "        correct += (predicted == target).sum().item()\n",
    "\n",
    "print(f'Accuracy of the model on the test images: {100 * correct / total:.2f}%')"
   ]
  },
  {
   "cell_type": "markdown",
   "metadata": {},
   "source": [
    "The accuracy of the model turns out to be $85.74\\%$. \n",
    "\n",
    "\n",
    "If there is a accuracy delta between training dataset and the validation dataset , it is a sign that the model is overfitting over the training data. Overfitting occurs when a model learns the training data too well, including the noise and details that do not generalize to new data. This typically results in excellent performance on the training data but poor performance on unseen data."
   ]
  },
  {
   "cell_type": "code",
   "execution_count": 17,
   "metadata": {},
   "outputs": [
    {
     "name": "stdout",
     "output_type": "stream",
     "text": [
      "Test Loss: 0.4524, Test Accuracy: 83.99%\n"
     ]
    }
   ],
   "source": [
    "# Testing phase\n",
    "model.eval()  # Set model to evaluation mode\n",
    "test_loss = 0.0\n",
    "correct = 0\n",
    "total = 0\n",
    "\n",
    "with torch.no_grad():  # Disable gradient calculation\n",
    "    for data, target in test_loader:\n",
    "        data, target = data.to(device), target.to(device)\n",
    "        outputs = model(data)\n",
    "        loss = loss_fn(outputs, target)\n",
    "        test_loss += loss.item() * data.size(0)\n",
    "        _, predicted = torch.max(outputs, 1)\n",
    "        total += target.size(0)\n",
    "        correct += (predicted == target).sum().item()\n",
    "\n",
    "test_loss /= len(test_loader.dataset)\n",
    "test_accuracy = 100 * correct / total\n",
    "print(f'Test Loss: {test_loss:.4f}, Test Accuracy: {test_accuracy:.2f}%')\n"
   ]
  },
  {
   "cell_type": "markdown",
   "metadata": {},
   "source": [
    "## Building a Regression MLP \n",
    "\n",
    "We will be using the California Housing dataset. \n",
    "\n",
    "Credits to this resource  : [Building a Regression Model for California Housing Dataset using MyTorch](https://machinelearningmastery.com/building-a-regression-model-in-pytorch/)"
   ]
  },
  {
   "cell_type": "code",
   "execution_count": 18,
   "metadata": {},
   "outputs": [],
   "source": [
    "import torch.nn as nn\n",
    "import torch.optim as optim\n",
    "from sklearn.datasets import fetch_california_housing\n",
    "from sklearn.model_selection import train_test_split\n",
    "\n",
    "# Fetching the dataset\n",
    "data = fetch_california_housing()\n",
    "X,y = data.data, data.target"
   ]
  },
  {
   "cell_type": "code",
   "execution_count": 19,
   "metadata": {},
   "outputs": [],
   "source": [
    "X_train_raw, X_test_raw, y_train, y_test = train_test_split(X, y, train_size=0.7, shuffle=True)\n",
    "\n"
   ]
  },
  {
   "cell_type": "code",
   "execution_count": 20,
   "metadata": {},
   "outputs": [],
   "source": [
    "from sklearn.preprocessing import StandardScaler\n",
    "\n",
    "# Standardizing data\n",
    "scaler = StandardScaler()\n",
    "scaler.fit(X_train_raw)\n",
    "X_train = scaler.transform(X_train_raw)\n",
    "X_test = scaler.transform(X_test_raw)"
   ]
  },
  {
   "cell_type": "code",
   "execution_count": 21,
   "metadata": {},
   "outputs": [],
   "source": [
    "# Setting up the training datasets\n",
    "X_train = torch.tensor(X_train, dtype=torch.float32)\n",
    "X_test= torch.tensor(X_test, dtype=torch.float32)\n",
    "y_train = torch.tensor(y_train, dtype=torch.float32).reshape(-1, 1)\n",
    "y_test = torch.tensor(y_test, dtype=torch.float32).reshape(-1, 1)"
   ]
  },
  {
   "cell_type": "code",
   "execution_count": 22,
   "metadata": {},
   "outputs": [],
   "source": [
    " # Define the model\n",
    "model = nn.Sequential(\n",
    "    nn.Linear(8, 24),\n",
    "    nn.ReLU(),\n",
    "    nn.Linear(24, 12),\n",
    "    nn.ReLU(),\n",
    "    nn.Linear(12, 6),\n",
    "    nn.ReLU(),\n",
    "    nn.Linear(6, 1)\n",
    ")"
   ]
  },
  {
   "cell_type": "code",
   "execution_count": 23,
   "metadata": {},
   "outputs": [],
   "source": [
    "# training parameters\n",
    "n_epochs = 100   # number of epochs to run\n",
    "batch_size = 10  # size of each batch\n",
    "batch_start = torch.arange(0, len(X_train), batch_size)"
   ]
  },
  {
   "cell_type": "code",
   "execution_count": 24,
   "metadata": {},
   "outputs": [],
   "source": [
    "# Setting up the loss function and the optimizer\n",
    "\n",
    "loss_fn = nn.MSELoss()  # mean square error\n",
    "optimizer = optim.Adam(model.parameters(), lr=0.0001)"
   ]
  },
  {
   "cell_type": "code",
   "execution_count": 25,
   "metadata": {},
   "outputs": [
    {
     "name": "stdout",
     "output_type": "stream",
     "text": [
      "MSE: 0.30\n",
      "RMSE: 0.55\n"
     ]
    }
   ],
   "source": [
    "import tqdm\n",
    "import numpy as np\n",
    "import copy\n",
    "import matplotlib.pyplot as plt\n",
    "\n",
    "# Hold the best model\n",
    "best_mse = np.inf   # init to infinity\n",
    "best_weights = None\n",
    "history = []\n",
    "\n",
    "\n",
    "# training Loop\n",
    "for epoch in range(n_epochs):\n",
    "    # set the model on training mode\n",
    "    model.train()\n",
    "    with tqdm.tqdm(batch_start, unit=\"batch\", mininterval=0, disable=True) as bar:\n",
    "        bar.set_description(f\"Epoch : [{epoch}/{n_epochs}]\")\n",
    "        for start in bar:\n",
    "            # Take a batch\n",
    "            X_batch = X_train[start:start+batch_size]\n",
    "            y_batch = y_train[start:start+batch_size]\n",
    "            \n",
    "            # forward pass\n",
    "            y_pred = model(X_batch) \n",
    "            loss = loss_fn(y_pred, y_batch)\n",
    "            \n",
    "            #backward pass\n",
    "            optimizer.zero_grad()\n",
    "            loss.backward()\n",
    "            \n",
    "            #update Weights\n",
    "            optimizer.step()\n",
    "            \n",
    "            #print progress\n",
    "            bar.set_postfix(mse=float(loss))\n",
    "    # evaluate accuracy at end of each epoch\n",
    "    model.eval()\n",
    "    y_pred = model(X_test)\n",
    "    mse = loss_fn(y_pred, y_test)\n",
    "    mse = float(mse)\n",
    "    history.append(mse)\n",
    "    if mse < best_mse:\n",
    "        best_mse = mse\n",
    "        best_weights = copy.deepcopy(model.state_dict())\n",
    "\n",
    "# restore model and return best accuracy\n",
    "model.load_state_dict(best_weights) \n",
    "    \n",
    " # restore model and return best accuracy\n",
    "model.load_state_dict(best_weights)\n",
    "print(\"MSE: %.2f\" % best_mse)\n",
    "print(\"RMSE: %.2f\" % np.sqrt(best_mse))\n"
   ]
  },
  {
   "cell_type": "code",
   "execution_count": 26,
   "metadata": {},
   "outputs": [
    {
     "data": {
      "image/png": "[encoded data removed]",
      "text/plain": [
       "<Figure size 640x480 with 1 Axes>"
      ]
     },
     "metadata": {},
     "output_type": "display_data"
    }
   ],
   "source": [
    "# Plotting the graph\n",
    "plt.plot(history)\n",
    "plt.show()   "
   ]
  },
  {
   "cell_type": "markdown",
   "metadata": {},
   "source": [
    "[Non Linear Regression 1D CNN on California Housing Data](https://github.com/shreya0202/Non-Linear-Regression-1D-CNN-on-California-Housing-Data/blob/master/NLP_Assignment1.ipynb)"
   ]
  },
  {
   "cell_type": "markdown",
   "metadata": {},
   "source": []
  }
 ],
 "metadata": {
  "kernelspec": {
   "display_name": "Python 3 (ipykernel)",
   "language": "python",
   "name": "python3"
  },
  "language_info": {
   "codemirror_mode": {
    "name": "ipython",
    "version": 3
   },
   "file_extension": ".py",
   "mimetype": "text/x-python",
   "name": "python",
   "nbconvert_exporter": "python",
   "pygments_lexer": "ipython3",
   "version": "3.12.2"
  }
 },
 "nbformat": 4,
 "nbformat_minor": 4
}
